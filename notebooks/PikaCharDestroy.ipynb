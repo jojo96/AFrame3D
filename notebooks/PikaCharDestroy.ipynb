{
 "cells": [
  {
   "cell_type": "code",
   "execution_count": 1,
   "metadata": {},
   "outputs": [],
   "source": [
    "import cv2 as cv\n",
    "import matplotlib.pyplot as plt"
   ]
  },
  {
   "cell_type": "code",
   "execution_count": 20,
   "metadata": {},
   "outputs": [],
   "source": [
    "#PROCESSING PIKACHU IMAGE\n",
    "# I used Pikachu and charmander for this project. You can use any low resolution pokemon images for this \n",
    "aa = cv.imread(r'C:\\Users\\Jojo\\Desktop\\projects\\minecraft\\pik.png')\n",
    "aa = cv.resize(aa, (32, 32), interpolation = cv.INTER_CUBIC)\n",
    "aa = cv.rotate(aa, cv.ROTATE_90_CLOCKWISE)\n"
   ]
  },
  {
   "cell_type": "code",
   "execution_count": 21,
   "metadata": {},
   "outputs": [],
   "source": [
    "for i in range(aa.shape[0]):\n",
    "    for j in range(aa.shape[1]):\n",
    "        if aa[i,j,0]>225 and aa[i,j,1]>225 and aa[i,j,2]>225:\n",
    "            aa[i,j,0] = 128\n",
    "            aa[i,j,1] = 128\n",
    "            aa[i,j,2] = 128"
   ]
  },
  {
   "cell_type": "code",
   "execution_count": 28,
   "metadata": {},
   "outputs": [],
   "source": [
    "#<a-box id=\"new\" color=\"blue\" position=\"2 2 2\" ></a-box>\n",
    "ind = 1 \n",
    "bval = 1\n",
    "strlis = []\n",
    "for i in range(aa.shape[0]):\n",
    "    for j in range(aa.shape[1]):\n",
    "        if aa[i,j,0]!=128 and aa[i,j,1]!=128 and aa[i,j,2]!=128:\n",
    "            str1 = '<a-box id'+'=\"new'+str(bval)+'\"'+ ' color=\"'\n",
    "            bval = bval + 1\n",
    "            colo = '#%02x%02x%02x' % (aa[i,j,2], aa[i,j,1], aa[i,j,0])\n",
    "            str2 = colo+'\"'+' position='\n",
    "            str3 = '\"'+str(i)+' '+str(j)+' '+str(ind+100)+'\"'+'></a-box>'\n",
    "            strlis.append(str1+str2+str3)\n",
    "    ind = ind + 1"
   ]
  },
  {
   "cell_type": "code",
   "execution_count": 29,
   "metadata": {},
   "outputs": [],
   "source": [
    "#PROCESSING CHARMANDER IMAGE\n",
    "aa = cv.imread(r'C:\\Users\\Jojo\\Desktop\\projects\\minecraft\\char.png')\n",
    "aa = cv.resize(aa, (32, 32), interpolation = cv.INTER_CUBIC)\n",
    "aa = cv.rotate(aa, cv.ROTATE_90_CLOCKWISE)"
   ]
  },
  {
   "cell_type": "code",
   "execution_count": 30,
   "metadata": {},
   "outputs": [],
   "source": [
    "for i in range(aa.shape[0]):\n",
    "    for j in range(aa.shape[1]):\n",
    "        if aa[i,j,0]>225 and aa[i,j,1]>225 and aa[i,j,2]>225:\n",
    "            aa[i,j,0] = 128\n",
    "            aa[i,j,1] = 128\n",
    "            aa[i,j,2] = 128"
   ]
  },
  {
   "cell_type": "code",
   "execution_count": 31,
   "metadata": {},
   "outputs": [],
   "source": [
    "#<a-box id=\"new\" color=\"blue\" position=\"2 2 2\" ></a-box>\n",
    "ind = 1 \n",
    "strlis2 = []\n",
    "for i in range(aa.shape[0]):\n",
    "    for j in range(aa.shape[1]):\n",
    "        if aa[i,j,0]!=128 and aa[i,j,1]!=128 and aa[i,j,2]!=128:\n",
    "            str1 = '<a-box id=\"new\" color=\"'\n",
    "            colo = '#%02x%02x%02x' % (aa[i,j,2], aa[i,j,1], aa[i,j,0])\n",
    "            str2 = colo+'\"'+' position='\n",
    "            str3 = '\"'+str(i-40)+' '+str(j)+' '+str(ind+100)+'\"'+'></a-box>'\n",
    "            strlis2.append(str1+str2+str3)\n",
    "    ind = ind + 1"
   ]
  },
  {
   "cell_type": "code",
   "execution_count": 36,
   "metadata": {},
   "outputs": [],
   "source": [
    "#pikdestroy list contains code for destroying the pikachu figure. It's very simple(just changing x-coords of boxes)\n",
    "pikdestroy = []\n",
    "for i in range(1,467):\n",
    "    str1 = \"document.getElementById('new\"+str(i)+\"').object3D.position.x += Math.floor(Math.random() * 10);\" \n",
    "    pikdestroy.append(str1)"
   ]
  },
  {
   "cell_type": "code",
   "execution_count": 37,
   "metadata": {},
   "outputs": [],
   "source": [
    "\n",
    "\n",
    "myfile = open(r\"C:\\Users\\Jojo\\Desktop\\projects\\minecraft\\pik22.txt\", \"w\")\n",
    "\n",
    "\n",
    "\n",
    "for line in strlis:\n",
    "    #var1, var2 = line.split(\",\");\n",
    "    myfile.write(\"%s\\n\" % line)\n",
    "for line in strlis2:\n",
    "    #var1, var2 = line.split(\",\");\n",
    "    myfile.write(\"%s\\n\" % line)\n",
    "\n",
    "\n",
    "\n",
    "myfile.close()"
   ]
  },
  {
   "cell_type": "code",
   "execution_count": null,
   "metadata": {},
   "outputs": [],
   "source": []
  }
 ],
 "metadata": {
  "kernelspec": {
   "display_name": "Python 3",
   "language": "python",
   "name": "python3"
  },
  "language_info": {
   "codemirror_mode": {
    "name": "ipython",
    "version": 3
   },
   "file_extension": ".py",
   "mimetype": "text/x-python",
   "name": "python",
   "nbconvert_exporter": "python",
   "pygments_lexer": "ipython3",
   "version": "3.8.3"
  }
 },
 "nbformat": 4,
 "nbformat_minor": 4
}
